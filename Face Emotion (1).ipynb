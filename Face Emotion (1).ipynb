{
 "cells": [
  {
   "cell_type": "code",
   "execution_count": 1,
   "metadata": {},
   "outputs": [],
   "source": [
    "import sys, os  \n",
    "import pandas as pd  \n",
    "import numpy as np  \n",
    "import matplotlib.pyplot as plt"
   ]
  },
  {
   "cell_type": "code",
   "execution_count": 2,
   "metadata": {},
   "outputs": [],
   "source": [
    "from keras.models import Sequential  \n",
    "from keras.layers import Dense, Dropout, Activation, Flatten  \n",
    "from keras.layers import Conv2D, MaxPooling2D, BatchNormalization,AveragePooling2D  \n",
    "from keras.losses import categorical_crossentropy  \n",
    "from keras.optimizers import Adam  \n",
    "from keras.regularizers import l2  \n",
    "from keras.utils import np_utils  \n",
    "# pd.set_option('display.max_rows', 500)  \n",
    "# pd.set_option('display.max_columns', 500)  \n",
    "# pd.set_option('display.width', 1000)  "
   ]
  },
  {
   "cell_type": "code",
   "execution_count": 3,
   "metadata": {},
   "outputs": [],
   "source": [
    "df=pd.read_csv('fer2013.csv')  \n",
    "\n",
    "# print(df.info())  \n",
    "# print(df[\"Usage\"].value_counts())  \n",
    "\n",
    "# print(df.head())  \n",
    "X_train,train_y,X_test,test_y=[],[],[],[]  "
   ]
  },
  {
   "cell_type": "code",
   "execution_count": 4,
   "metadata": {},
   "outputs": [],
   "source": [
    "def fer2013_show_instance(index):\n",
    "    \"\"\"Shows the image and the emotin labl of the index's instance\"\"\"\n",
    "    image = np.reshape(training_data.at[index, \"pixels\"].split(\" \"), (width, height)).astype(\"float\")\n",
    "    image -= np.mean(image)\n",
    "    image /= np.std(image)\n",
    "    print(emotion_labels[training_data.at[index, \"emotion\"]])\n",
    "    plt.imshow(image, cmap = \"gray\")"
   ]
  },
  {
   "cell_type": "code",
   "execution_count": 5,
   "metadata": {},
   "outputs": [
    {
     "data": {
      "text/plain": [
       "Training       28709\n",
       "PrivateTest     3589\n",
       "PublicTest      3589\n",
       "Name: Usage, dtype: int64"
      ]
     },
     "execution_count": 5,
     "metadata": {},
     "output_type": "execute_result"
    }
   ],
   "source": [
    "df.Usage.value_counts()"
   ]
  },
  {
   "cell_type": "code",
   "execution_count": 6,
   "metadata": {},
   "outputs": [],
   "source": [
    "groups = [i for _, i in df.groupby('Usage')]\n",
    "training_data = groups[2]\n",
    "validation_data = groups[1]\n",
    "testing_data= groups[0]"
   ]
  },
  {
   "cell_type": "code",
   "execution_count": 7,
   "metadata": {},
   "outputs": [],
   "source": [
    "num_classes = 7\n",
    "width = 48\n",
    "height = 48\n",
    "emotion_labels = [\"Angry\",\"Disgust\",\"fear\",\"Happy\",\"Sad\",\"Surprise\",\"Neutral\"]\n",
    "Classes = np.array([\"Angry\",\"Disgust\",\"fear\",\"Happy\",\"Sad\",\"Surprise\",\"Neutral\"])"
   ]
  },
  {
   "cell_type": "code",
   "execution_count": 8,
   "metadata": {},
   "outputs": [
    {
     "name": "stdout",
     "output_type": "stream",
     "text": [
      "Happy\n"
     ]
    },
    {
     "data": {
      "image/png": "[encoded data removed]",
      "text/plain": [
       "<Figure size 432x288 with 1 Axes>"
      ]
     },
     "metadata": {
      "needs_background": "light"
     },
     "output_type": "display_data"
    }
   ],
   "source": [
    "fer2013_show_instance(np.random.randint(90,len(training_data)))"
   ]
  },
  {
   "cell_type": "code",
   "execution_count": 9,
   "metadata": {},
   "outputs": [],
   "source": [
    "import os\n",
    "import zipfile\n",
    "import numpy as np\n",
    "import pandas as pd\n",
    "import matplotlib as mpl\n",
    "import matplotlib.pyplot as plt"
   ]
  },
  {
   "cell_type": "code",
   "execution_count": 10,
   "metadata": {},
   "outputs": [],
   "source": [
    "for index, row in df.iterrows():  \n",
    "    val=row['pixels'].split(\" \")  \n",
    "    try:  \n",
    "        if 'Training' in row['Usage']:  \n",
    "           X_train.append(np.array(val,'float32'))  \n",
    "           train_y.append(row['emotion'])  \n",
    "        elif 'PublicTest' in row['Usage']:  \n",
    "           X_test.append(np.array(val,'float32'))  \n",
    "           test_y.append(row['emotion'])  \n",
    "    except:  \n",
    "        print(f\"error occured at index :{index} and row:{row}\")  "
   ]
  },
  {
   "cell_type": "code",
   "execution_count": 11,
   "metadata": {},
   "outputs": [],
   "source": [
    "num_features = 64  \n",
    "num_labels = 7  \n",
    "batch_size = 64  \n",
    "epochs = 30  \n",
    "width, height = 48, 48  "
   ]
  },
  {
   "cell_type": "code",
   "execution_count": 12,
   "metadata": {},
   "outputs": [],
   "source": [
    "X_train = np.array(X_train,'float32')  \n",
    "train_y = np.array(train_y,'float32')  \n",
    "X_test = np.array(X_test,'float32')  \n",
    "test_y = np.array(test_y,'float32')  "
   ]
  },
  {
   "cell_type": "code",
   "execution_count": 13,
   "metadata": {},
   "outputs": [],
   "source": [
    "train_y=np_utils.to_categorical(train_y, num_classes=num_labels)  \n",
    "test_y=np_utils.to_categorical(test_y, num_classes=num_labels)  "
   ]
  },
  {
   "cell_type": "code",
   "execution_count": 14,
   "metadata": {},
   "outputs": [],
   "source": [
    "#cannot produce  \n",
    "#normalizing data between oand 1  \n",
    "X_train -= np.mean(X_train, axis=0)  \n",
    "X_train /= np.std(X_train, axis=0)  \n",
    "\n",
    "X_test -= np.mean(X_test, axis=0)  \n",
    "X_test /= np.std(X_test, axis=0)  \n",
    "\n",
    "X_train = X_train.reshape(X_train.shape[0], 48, 48, 1)  \n",
    "\n",
    "X_test = X_test.reshape(X_test.shape[0], 48, 48, 1)  "
   ]
  },
  {
   "cell_type": "code",
   "execution_count": 17,
   "metadata": {},
   "outputs": [],
   "source": [
    "# print(f\"shape:{X_train.shape}\")  \n",
    "##designing the cnn  \n",
    "#1st convolution layer  \n",
    "model = Sequential()  \n",
    "\n",
    "model.add(Conv2D(64, kernel_size=(3, 3), activation='relu', input_shape=(X_train.shape[1:])))  \n",
    "model.add(Conv2D(64,kernel_size= (3, 3), activation='relu'))  \n",
    "# model.add(BatchNormalization())  \n",
    "model.add(MaxPooling2D(pool_size=(2,2), strides=(2, 2)))  \n",
    "model.add(Dropout(0.5))  \n",
    "\n",
    "#2nd convolution layer  \n",
    "model.add(Conv2D(64, (3, 3), activation='relu'))  \n",
    "model.add(Conv2D(64, (3, 3), activation='relu'))  \n",
    "# model.add(BatchNormalization())  \n",
    "model.add(MaxPooling2D(pool_size=(2,2), strides=(2, 2)))  \n",
    "model.add(Dropout(0.5))  \n",
    "\n",
    "#3rd convolution layer  \n",
    "model.add(Conv2D(128, (3, 3), activation='relu'))  \n",
    "model.add(Conv2D(128, (3, 3), activation='relu'))  \n",
    "# model.add(BatchNormalization())  \n",
    "model.add(MaxPooling2D(pool_size=(2,2), strides=(2, 2)))  \n",
    "\n",
    "model.add(Flatten())  \n",
    "\n",
    "#fully connected neural networks  \n",
    "model.add(Dense(1024, activation='relu'))  \n",
    "model.add(Dropout(0.2))  \n",
    "model.add(Dense(1024, activation='relu'))  \n",
    "model.add(Dropout(0.2))  \n",
    "\n",
    "model.add(Dense(num_labels, activation='softmax'))  \n",
    "\n",
    "# model.summary()  "
   ]
  },
  {
   "cell_type": "code",
   "execution_count": 18,
   "metadata": {},
   "outputs": [],
   "source": [
    "#Compliling the model  \n",
    "model.compile(loss=categorical_crossentropy,  \n",
    "              optimizer=Adam(),  \n",
    "              metrics=['accuracy'])  \n"
   ]
  },
  {
   "cell_type": "code",
   "execution_count": 19,
   "metadata": {},
   "outputs": [
    {
     "name": "stdout",
     "output_type": "stream",
     "text": [
      "Epoch 1/30\n",
      "449/449 [==============================] - 361s 793ms/step - loss: 1.7942 - accuracy: 0.2533 - val_loss: 1.6165 - val_accuracy: 0.3430\n",
      "Epoch 2/30\n",
      "449/449 [==============================] - 352s 783ms/step - loss: 1.5817 - accuracy: 0.3741 - val_loss: 1.4567 - val_accuracy: 0.4283\n",
      "Epoch 3/30\n",
      "449/449 [==============================] - 351s 783ms/step - loss: 1.4535 - accuracy: 0.4376 - val_loss: 1.3460 - val_accuracy: 0.4776\n",
      "Epoch 4/30\n",
      "449/449 [==============================] - 352s 784ms/step - loss: 1.3693 - accuracy: 0.4713 - val_loss: 1.3117 - val_accuracy: 0.4999\n",
      "Epoch 5/30\n",
      "449/449 [==============================] - 350s 780ms/step - loss: 1.3199 - accuracy: 0.4885 - val_loss: 1.2833 - val_accuracy: 0.4965\n",
      "Epoch 6/30\n",
      "449/449 [==============================] - 352s 785ms/step - loss: 1.2840 - accuracy: 0.5087 - val_loss: 1.2414 - val_accuracy: 0.5199\n",
      "Epoch 7/30\n",
      "449/449 [==============================] - 352s 783ms/step - loss: 1.2684 - accuracy: 0.5094 - val_loss: 1.2262 - val_accuracy: 0.5300\n",
      "Epoch 8/30\n",
      "449/449 [==============================] - 360s 802ms/step - loss: 1.2359 - accuracy: 0.5264 - val_loss: 1.2009 - val_accuracy: 0.5400\n",
      "Epoch 9/30\n",
      "449/449 [==============================] - 356s 793ms/step - loss: 1.2219 - accuracy: 0.5319 - val_loss: 1.2220 - val_accuracy: 0.5322\n",
      "Epoch 10/30\n",
      "449/449 [==============================] - 352s 784ms/step - loss: 1.1890 - accuracy: 0.5444 - val_loss: 1.1850 - val_accuracy: 0.5536\n",
      "Epoch 11/30\n",
      "449/449 [==============================] - 352s 784ms/step - loss: 1.1779 - accuracy: 0.5462 - val_loss: 1.1891 - val_accuracy: 0.5542\n",
      "Epoch 12/30\n",
      "449/449 [==============================] - 353s 787ms/step - loss: 1.1496 - accuracy: 0.5592 - val_loss: 1.1708 - val_accuracy: 0.5458\n",
      "Epoch 13/30\n",
      "449/449 [==============================] - 351s 781ms/step - loss: 1.1421 - accuracy: 0.5630 - val_loss: 1.2045 - val_accuracy: 0.5386\n",
      "Epoch 14/30\n",
      "449/449 [==============================] - 352s 784ms/step - loss: 1.1259 - accuracy: 0.5690 - val_loss: 1.1796 - val_accuracy: 0.5589\n",
      "Epoch 15/30\n",
      "449/449 [==============================] - 351s 781ms/step - loss: 1.1036 - accuracy: 0.5770 - val_loss: 1.1561 - val_accuracy: 0.5550\n",
      "Epoch 16/30\n",
      "449/449 [==============================] - 353s 786ms/step - loss: 1.0867 - accuracy: 0.5831 - val_loss: 1.1447 - val_accuracy: 0.5637\n",
      "Epoch 17/30\n",
      "449/449 [==============================] - 351s 782ms/step - loss: 1.0812 - accuracy: 0.5848 - val_loss: 1.1598 - val_accuracy: 0.5575\n",
      "Epoch 18/30\n",
      "449/449 [==============================] - 352s 784ms/step - loss: 1.0679 - accuracy: 0.5958 - val_loss: 1.1560 - val_accuracy: 0.5617\n",
      "Epoch 19/30\n",
      "449/449 [==============================] - 352s 784ms/step - loss: 1.0522 - accuracy: 0.5941 - val_loss: 1.1662 - val_accuracy: 0.5659\n",
      "Epoch 20/30\n",
      "449/449 [==============================] - 350s 780ms/step - loss: 1.0367 - accuracy: 0.6007 - val_loss: 1.1512 - val_accuracy: 0.5598\n",
      "Epoch 21/30\n",
      "449/449 [==============================] - 351s 783ms/step - loss: 1.0223 - accuracy: 0.6044 - val_loss: 1.1581 - val_accuracy: 0.5704\n",
      "Epoch 22/30\n",
      "449/449 [==============================] - 351s 781ms/step - loss: 1.0104 - accuracy: 0.6157 - val_loss: 1.1391 - val_accuracy: 0.5692\n",
      "Epoch 23/30\n",
      "449/449 [==============================] - 354s 789ms/step - loss: 0.9951 - accuracy: 0.6185 - val_loss: 1.1459 - val_accuracy: 0.5687\n",
      "Epoch 24/30\n",
      "449/449 [==============================] - 354s 789ms/step - loss: 0.9982 - accuracy: 0.6211 - val_loss: 1.1668 - val_accuracy: 0.5631\n",
      "Epoch 25/30\n",
      "449/449 [==============================] - 349s 778ms/step - loss: 0.9924 - accuracy: 0.6186 - val_loss: 1.1572 - val_accuracy: 0.5717\n",
      "Epoch 26/30\n",
      "449/449 [==============================] - 351s 781ms/step - loss: 0.9636 - accuracy: 0.6336 - val_loss: 1.1423 - val_accuracy: 0.5726\n",
      "Epoch 27/30\n",
      "449/449 [==============================] - 349s 778ms/step - loss: 0.9534 - accuracy: 0.6402 - val_loss: 1.1383 - val_accuracy: 0.5882\n",
      "Epoch 28/30\n",
      "449/449 [==============================] - 350s 779ms/step - loss: 0.9469 - accuracy: 0.6383 - val_loss: 1.1507 - val_accuracy: 0.5790\n",
      "Epoch 29/30\n",
      "449/449 [==============================] - 351s 781ms/step - loss: 0.9370 - accuracy: 0.6411 - val_loss: 1.1540 - val_accuracy: 0.5784\n",
      "Epoch 30/30\n",
      "449/449 [==============================] - 348s 774ms/step - loss: 0.9250 - accuracy: 0.6473 - val_loss: 1.1613 - val_accuracy: 0.5706\n"
     ]
    },
    {
     "data": {
      "text/plain": [
       "<tensorflow.python.keras.callbacks.History at 0x1df48498460>"
      ]
     },
     "execution_count": 19,
     "metadata": {},
     "output_type": "execute_result"
    }
   ],
   "source": [
    "#Training the model  \n",
    "model.fit(X_train, train_y,  \n",
    "          batch_size=batch_size,  \n",
    "          epochs=epochs,  \n",
    "          verbose=1,  \n",
    "          validation_data=(X_test, test_y),  \n",
    "          shuffle=True)  "
   ]
  },
  {
   "cell_type": "code",
   "execution_count": 20,
   "metadata": {},
   "outputs": [],
   "source": [
    "#Saving the  model to  use it later on  \n",
    "fer_json = model.to_json()  \n",
    "with open(\"fer.json\", \"w\") as json_file:  \n",
    "    json_file.write(fer_json)  \n",
    "model.save_weights(\"fer.h5\")  "
   ]
  },
  {
   "cell_type": "code",
   "execution_count": 21,
   "metadata": {},
   "outputs": [
    {
     "name": "stdout",
     "output_type": "stream",
     "text": [
      "Saved trained model at D:/DataFlair/FER_Model.h5 \n"
     ]
    }
   ],
   "source": [
    "model_name = 'FER_Model.h5'\n",
    "save_dir = 'D:/DataFlair/'\n",
    "# Save model and weights\n",
    "if not os.path.isdir(save_dir):\n",
    "    os.makedirs(save_dir)\n",
    "model_path = os.path.join(save_dir, model_name)\n",
    "model.save(model_path)\n",
    "print('Saved trained model at %s ' % model_path)"
   ]
  },
  {
   "cell_type": "code",
   "execution_count": 1,
   "metadata": {},
   "outputs": [],
   "source": [
    "from keras.preprocessing.image import img_to_array\n",
    "import imutils\n",
    "import cv2\n",
    "from keras.models import load_model\n",
    "import numpy as np"
   ]
  },
  {
   "cell_type": "code",
   "execution_count": 2,
   "metadata": {},
   "outputs": [],
   "source": [
    "# parameters for loading data and images\n",
    "detection_model_path = 'haarcascade_frontalface_default.xml'\n",
    "emotion_model_path = 'FER_Model.h5'"
   ]
  },
  {
   "cell_type": "code",
   "execution_count": 3,
   "metadata": {},
   "outputs": [],
   "source": [
    "# hyper-parameters for bounding boxes shape\n",
    "# loading models\n",
    "face_detection = cv2.CascadeClassifier(detection_model_path)\n",
    "emotion_classifier = load_model(emotion_model_path, compile=False)\n",
    "EMOTIONS = [\"angry\" ,\"disgust\",\"scared\", \"happy\", \"sad\", \"surprised\",\n",
    " \"neutral\"]"
   ]
  },
  {
   "cell_type": "code",
   "execution_count": null,
   "metadata": {},
   "outputs": [],
   "source": [
    "#feelings_faces = []\n",
    "#for index, emotion in enumerate(EMOTIONS):\n",
    "   # feelings_faces.append(cv2.imread('emojis/' + emotion + '.png', -1))\n",
    "import cv2\n",
    "# starting video streaming\n",
    "cv2.namedWindow('your_face')\n",
    "camera = cv2.VideoCapture(0)\n",
    "while True:\n",
    "    frame = camera.read()[1]\n",
    "    #reading the frame\n",
    "    frame = imutils.resize(frame,width=300)\n",
    "    gray = cv2.cvtColor(frame, cv2.COLOR_BGR2GRAY)\n",
    "    faces = face_detection.detectMultiScale(gray,scaleFactor=1.1,minNeighbors=5,minSize=(30,30),flags=cv2.CASCADE_SCALE_IMAGE)\n",
    "    \n",
    "    canvas = np.zeros((250, 300, 3), dtype=\"uint8\")\n",
    "    frameClone = frame.copy()\n",
    "    if len(faces) > 0:\n",
    "        faces = sorted(faces, reverse=True,\n",
    "        key=lambda x: (x[2] - x[0]) * (x[3] - x[1]))[0]\n",
    "        (fX, fY, fW, fH) = faces\n",
    "                    # Extract the ROI of the face from the grayscale image, resize it to a fixed 28x28 pixels, and then prepare\n",
    "            # the ROI for classification via the CNN\n",
    "        roi = gray[fY:fY + fH, fX:fX + fW]\n",
    "        roi = cv2.resize(roi, (48, 48))\n",
    "        roi = roi.astype(\"float\") / 255.0\n",
    "        roi = img_to_array(roi)\n",
    "        roi = np.expand_dims(roi, axis=0)\n",
    "        \n",
    "        \n",
    "        preds = emotion_classifier.predict(roi)[0]\n",
    "        emotion_probability = np.max(preds)\n",
    "        label = EMOTIONS[preds.argmax()]\n",
    "    else: continue\n",
    "\n",
    " \n",
    "    for (i, (emotion, prob)) in enumerate(zip(EMOTIONS, preds)):\n",
    "                # construct the label text\n",
    "                text = \"{}: {:.2f}%\".format(emotion, prob * 100)\n",
    "\n",
    "                # draw the label + probability bar on the canvas\n",
    "               # emoji_face = feelings_faces[np.argmax(preds)]\n",
    "\n",
    "                \n",
    "                w = int(prob * 300)\n",
    "                cv2.rectangle(canvas, (7, (i * 35) + 5),\n",
    "                (w, (i * 35) + 35), (0, 0, 255), -1)    \n",
    "                cv2.putText(canvas, text, (10, (i * 35) + 23),\n",
    "                cv2.FONT_HERSHEY_SIMPLEX, 0.45,\n",
    "                (255, 255, 255), 2)\n",
    "                cv2.putText(frameClone, label, (fX, fY - 10),\n",
    "                cv2.FONT_HERSHEY_SIMPLEX, 0.45, (0, 0, 255), 2)\n",
    "                cv2.rectangle(frameClone, (fX, fY), (fX + fW, fY + fH),\n",
    "                              (0, 0, 255), 2)\n",
    "#    for c in range(0, 3):\n",
    "#        frame[200:320, 10:130, c] = emoji_face[:, :, c] * \\\n",
    "#        (emoji_face[:, :, 3] / 255.0) + frame[200:320,\n",
    "#        10:130, c] * (1.0 - emoji_face[:, :, 3] / 255.0)\n",
    "\n",
    "    cv2.imshow('your_face', frameClone)\n",
    "    cv2.imshow(\"Probabilities\", canvas)                                                                                                                                                                                                                                    \n",
    "    if cv2.waitKey(1) & 0xFF == ord('q'):\n",
    "        break\n",
    "\n",
    "camera.release()\n",
    "cv2.destroyAllWindows()"
   ]
  },
  {
   "cell_type": "code",
   "execution_count": null,
   "metadata": {},
   "outputs": [],
   "source": []
  }
 ],
 "metadata": {
  "kernelspec": {
   "display_name": "Python 3",
   "language": "python",
   "name": "python3"
  },
  "language_info": {
   "codemirror_mode": {
    "name": "ipython",
    "version": 3
   },
   "file_extension": ".py",
   "mimetype": "text/x-python",
   "name": "python",
   "nbconvert_exporter": "python",
   "pygments_lexer": "ipython3",
   "version": "3.8.3"
  }
 },
 "nbformat": 4,
 "nbformat_minor": 2
}
